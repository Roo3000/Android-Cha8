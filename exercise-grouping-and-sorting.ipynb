{
 "cells": [
  {
   "cell_type": "markdown",
   "id": "f462e91f",
   "metadata": {
    "papermill": {
     "duration": 0.004878,
     "end_time": "2025-08-06T16:43:28.964603",
     "exception": false,
     "start_time": "2025-08-06T16:43:28.959725",
     "status": "completed"
    },
    "tags": []
   },
   "source": [
    "**This notebook is an exercise in the [Pandas](https://www.kaggle.com/learn/pandas) course.  You can reference the tutorial at [this link](https://www.kaggle.com/residentmario/grouping-and-sorting).**\n",
    "\n",
    "---\n"
   ]
  },
  {
   "cell_type": "markdown",
   "id": "ec46f557",
   "metadata": {
    "papermill": {
     "duration": 0.003869,
     "end_time": "2025-08-06T16:43:28.972766",
     "exception": false,
     "start_time": "2025-08-06T16:43:28.968897",
     "status": "completed"
    },
    "tags": []
   },
   "source": [
    "# Introduction\n",
    "\n",
    "In these exercises we'll apply groupwise analysis to our dataset.\n",
    "\n",
    "Run the code cell below to load the data before running the exercises."
   ]
  },
  {
   "cell_type": "code",
   "execution_count": 1,
   "id": "82530339",
   "metadata": {
    "execution": {
     "iopub.execute_input": "2025-08-06T16:43:28.982597Z",
     "iopub.status.busy": "2025-08-06T16:43:28.982285Z",
     "iopub.status.idle": "2025-08-06T16:43:34.032683Z",
     "shell.execute_reply": "2025-08-06T16:43:34.031656Z"
    },
    "papermill": {
     "duration": 5.057437,
     "end_time": "2025-08-06T16:43:34.034686",
     "exception": false,
     "start_time": "2025-08-06T16:43:28.977249",
     "status": "completed"
    },
    "tags": []
   },
   "outputs": [
    {
     "name": "stdout",
     "output_type": "stream",
     "text": [
      "Setup complete.\n"
     ]
    },
    {
     "name": "stderr",
     "output_type": "stream",
     "text": [
      "/usr/local/lib/python3.11/dist-packages/learntools/pandas/grouping_and_sorting.py:29: FutureWarning: The provided callable <built-in function min> is currently using SeriesGroupBy.min. In a future version of pandas, the provided callable will be used directly. To keep current behavior pass the string \"min\" instead.\n",
      "  _expected = reviews.groupby('variety').price.agg([min, max])\n",
      "/usr/local/lib/python3.11/dist-packages/learntools/pandas/grouping_and_sorting.py:29: FutureWarning: The provided callable <built-in function max> is currently using SeriesGroupBy.max. In a future version of pandas, the provided callable will be used directly. To keep current behavior pass the string \"max\" instead.\n",
      "  _expected = reviews.groupby('variety').price.agg([min, max])\n",
      "/usr/local/lib/python3.11/dist-packages/learntools/pandas/grouping_and_sorting.py:35: FutureWarning: The provided callable <built-in function min> is currently using SeriesGroupBy.min. In a future version of pandas, the provided callable will be used directly. To keep current behavior pass the string \"min\" instead.\n",
      "  _expected = reviews.groupby('variety').price.agg([min, max]).sort_values(by=['min', 'max'], ascending=False)\n",
      "/usr/local/lib/python3.11/dist-packages/learntools/pandas/grouping_and_sorting.py:35: FutureWarning: The provided callable <built-in function max> is currently using SeriesGroupBy.max. In a future version of pandas, the provided callable will be used directly. To keep current behavior pass the string \"max\" instead.\n",
      "  _expected = reviews.groupby('variety').price.agg([min, max]).sort_values(by=['min', 'max'], ascending=False)\n"
     ]
    }
   ],
   "source": [
    "import pandas as pd\n",
    "\n",
    "reviews = pd.read_csv(\"../input/wine-reviews/winemag-data-130k-v2.csv\", index_col=0)\n",
    "#pd.set_option(\"display.max_rows\", 5)\n",
    "reviews.describe()\n",
    "\n",
    "from learntools.core import binder; binder.bind(globals())\n",
    "from learntools.pandas.grouping_and_sorting import *\n",
    "print(\"Setup complete.\")"
   ]
  },
  {
   "cell_type": "markdown",
   "id": "aa887b5e",
   "metadata": {
    "papermill": {
     "duration": 0.004051,
     "end_time": "2025-08-06T16:43:34.043302",
     "exception": false,
     "start_time": "2025-08-06T16:43:34.039251",
     "status": "completed"
    },
    "tags": []
   },
   "source": [
    "# Exercises"
   ]
  },
  {
   "cell_type": "markdown",
   "id": "2e9d5c8d",
   "metadata": {
    "papermill": {
     "duration": 0.003852,
     "end_time": "2025-08-06T16:43:34.051286",
     "exception": false,
     "start_time": "2025-08-06T16:43:34.047434",
     "status": "completed"
    },
    "tags": []
   },
   "source": [
    "## 1.\n",
    "Who are the most common wine reviewers in the dataset? Create a `Series` whose index is the `taster_twitter_handle` category from the dataset, and whose values count how many reviews each person wrote."
   ]
  },
  {
   "cell_type": "code",
   "execution_count": 2,
   "id": "6eedf1d8",
   "metadata": {
    "execution": {
     "iopub.execute_input": "2025-08-06T16:43:34.060523Z",
     "iopub.status.busy": "2025-08-06T16:43:34.060223Z",
     "iopub.status.idle": "2025-08-06T16:43:34.085758Z",
     "shell.execute_reply": "2025-08-06T16:43:34.084932Z"
    },
    "papermill": {
     "duration": 0.031885,
     "end_time": "2025-08-06T16:43:34.087158",
     "exception": false,
     "start_time": "2025-08-06T16:43:34.055273",
     "status": "completed"
    },
    "tags": []
   },
   "outputs": [
    {
     "data": {
      "application/javascript": [
       "parent.postMessage({\"jupyterEvent\": \"custom.exercise_interaction\", \"data\": {\"outcomeType\": 1, \"valueTowardsCompletion\": 0.16666666666666666, \"interactionType\": 1, \"questionType\": 1, \"questionId\": \"1_ReviewsWritten\", \"learnToolsVersion\": \"0.3.5\", \"failureMessage\": \"\", \"exceptionClass\": \"\", \"trace\": \"\"}}, \"*\")"
      ],
      "text/plain": [
       "<IPython.core.display.Javascript object>"
      ]
     },
     "metadata": {},
     "output_type": "display_data"
    },
    {
     "data": {
      "text/markdown": [
       "<span style=\"color:#33cc33\">Correct:</span> \n",
       "\n",
       "\n",
       "```python\n",
       "reviews_written = reviews.groupby('taster_twitter_handle').size()\n",
       "```\n",
       "or\n",
       "```python\n",
       "reviews_written = reviews.groupby('taster_twitter_handle').taster_twitter_handle.count()\n",
       "```\n"
      ],
      "text/plain": [
       "Correct: \n",
       "\n",
       "\n",
       "```python\n",
       "reviews_written = reviews.groupby('taster_twitter_handle').size()\n",
       "```\n",
       "or\n",
       "```python\n",
       "reviews_written = reviews.groupby('taster_twitter_handle').taster_twitter_handle.count()\n",
       "```"
      ]
     },
     "metadata": {},
     "output_type": "display_data"
    }
   ],
   "source": [
    "# Your code here\n",
    "reviews_written = reviews.groupby('taster_twitter_handle').taster_twitter_handle.count()\n",
    "\n",
    "# Check your answer\n",
    "q1.check()"
   ]
  },
  {
   "cell_type": "code",
   "execution_count": 3,
   "id": "e2bd8429",
   "metadata": {
    "execution": {
     "iopub.execute_input": "2025-08-06T16:43:34.097153Z",
     "iopub.status.busy": "2025-08-06T16:43:34.096782Z",
     "iopub.status.idle": "2025-08-06T16:43:34.106633Z",
     "shell.execute_reply": "2025-08-06T16:43:34.105668Z"
    },
    "papermill": {
     "duration": 0.016204,
     "end_time": "2025-08-06T16:43:34.107828",
     "exception": false,
     "start_time": "2025-08-06T16:43:34.091624",
     "status": "completed"
    },
    "tags": []
   },
   "outputs": [
    {
     "data": {
      "application/javascript": [
       "parent.postMessage({\"jupyterEvent\": \"custom.exercise_interaction\", \"data\": {\"interactionType\": 2, \"questionType\": 1, \"questionId\": \"1_ReviewsWritten\", \"learnToolsVersion\": \"0.3.5\", \"valueTowardsCompletion\": 0.0, \"failureMessage\": \"\", \"exceptionClass\": \"\", \"trace\": \"\", \"outcomeType\": 4}}, \"*\")"
      ],
      "text/plain": [
       "<IPython.core.display.Javascript object>"
      ]
     },
     "metadata": {},
     "output_type": "display_data"
    },
    {
     "data": {
      "text/markdown": [
       "<span style=\"color:#3366cc\">Hint:</span> Use the `groupby` operation and `size()` (or `count()`)."
      ],
      "text/plain": [
       "Hint: Use the `groupby` operation and `size()` (or `count()`)."
      ]
     },
     "metadata": {},
     "output_type": "display_data"
    },
    {
     "data": {
      "application/javascript": [
       "parent.postMessage({\"jupyterEvent\": \"custom.exercise_interaction\", \"data\": {\"interactionType\": 3, \"questionType\": 1, \"questionId\": \"1_ReviewsWritten\", \"learnToolsVersion\": \"0.3.5\", \"valueTowardsCompletion\": 0.0, \"failureMessage\": \"\", \"exceptionClass\": \"\", \"trace\": \"\", \"outcomeType\": 4}}, \"*\")"
      ],
      "text/plain": [
       "<IPython.core.display.Javascript object>"
      ]
     },
     "metadata": {},
     "output_type": "display_data"
    },
    {
     "data": {
      "text/markdown": [
       "<span style=\"color:#33cc99\">Solution:</span> \n",
       "```python\n",
       "reviews_written = reviews.groupby('taster_twitter_handle').size()\n",
       "```\n",
       "or\n",
       "```python\n",
       "reviews_written = reviews.groupby('taster_twitter_handle').taster_twitter_handle.count()\n",
       "```\n"
      ],
      "text/plain": [
       "Solution: \n",
       "```python\n",
       "reviews_written = reviews.groupby('taster_twitter_handle').size()\n",
       "```\n",
       "or\n",
       "```python\n",
       "reviews_written = reviews.groupby('taster_twitter_handle').taster_twitter_handle.count()\n",
       "```"
      ]
     },
     "metadata": {},
     "output_type": "display_data"
    }
   ],
   "source": [
    "q1.hint()\n",
    "q1.solution()"
   ]
  },
  {
   "cell_type": "markdown",
   "id": "5d40be6f",
   "metadata": {
    "papermill": {
     "duration": 0.004334,
     "end_time": "2025-08-06T16:43:34.117889",
     "exception": false,
     "start_time": "2025-08-06T16:43:34.113555",
     "status": "completed"
    },
    "tags": []
   },
   "source": [
    "## 2.\n",
    "What is the best wine I can buy for a given amount of money? Create a `Series` whose index is wine prices and whose values is the maximum number of points a wine costing that much was given in a review. Sort the values by price, ascending (so that `4.0` dollars is at the top and `3300.0` dollars is at the bottom)."
   ]
  },
  {
   "cell_type": "code",
   "execution_count": 4,
   "id": "e1b7cd0e",
   "metadata": {
    "execution": {
     "iopub.execute_input": "2025-08-06T16:43:34.128386Z",
     "iopub.status.busy": "2025-08-06T16:43:34.128059Z",
     "iopub.status.idle": "2025-08-06T16:43:34.139554Z",
     "shell.execute_reply": "2025-08-06T16:43:34.138709Z"
    },
    "papermill": {
     "duration": 0.018649,
     "end_time": "2025-08-06T16:43:34.141174",
     "exception": false,
     "start_time": "2025-08-06T16:43:34.122525",
     "status": "completed"
    },
    "tags": []
   },
   "outputs": [
    {
     "data": {
      "application/javascript": [
       "parent.postMessage({\"jupyterEvent\": \"custom.exercise_interaction\", \"data\": {\"outcomeType\": 1, \"valueTowardsCompletion\": 0.16666666666666666, \"interactionType\": 1, \"questionType\": 1, \"questionId\": \"2_BestRatingPerPrice\", \"learnToolsVersion\": \"0.3.5\", \"failureMessage\": \"\", \"exceptionClass\": \"\", \"trace\": \"\"}}, \"*\")"
      ],
      "text/plain": [
       "<IPython.core.display.Javascript object>"
      ]
     },
     "metadata": {},
     "output_type": "display_data"
    },
    {
     "data": {
      "text/markdown": [
       "<span style=\"color:#33cc33\">Correct</span>"
      ],
      "text/plain": [
       "Correct"
      ]
     },
     "metadata": {},
     "output_type": "display_data"
    }
   ],
   "source": [
    "best_rating_per_price = reviews.groupby('price')['points'].max().sort_index()\n",
    "\n",
    "# Check your answer\n",
    "q2.check()"
   ]
  },
  {
   "cell_type": "code",
   "execution_count": 5,
   "id": "54c4689b",
   "metadata": {
    "execution": {
     "iopub.execute_input": "2025-08-06T16:43:34.152263Z",
     "iopub.status.busy": "2025-08-06T16:43:34.151929Z",
     "iopub.status.idle": "2025-08-06T16:43:34.158667Z",
     "shell.execute_reply": "2025-08-06T16:43:34.157734Z"
    },
    "papermill": {
     "duration": 0.013885,
     "end_time": "2025-08-06T16:43:34.159950",
     "exception": false,
     "start_time": "2025-08-06T16:43:34.146065",
     "status": "completed"
    },
    "tags": []
   },
   "outputs": [
    {
     "data": {
      "application/javascript": [
       "parent.postMessage({\"jupyterEvent\": \"custom.exercise_interaction\", \"data\": {\"interactionType\": 3, \"questionType\": 1, \"questionId\": \"2_BestRatingPerPrice\", \"learnToolsVersion\": \"0.3.5\", \"valueTowardsCompletion\": 0.0, \"failureMessage\": \"\", \"exceptionClass\": \"\", \"trace\": \"\", \"outcomeType\": 4}}, \"*\")"
      ],
      "text/plain": [
       "<IPython.core.display.Javascript object>"
      ]
     },
     "metadata": {},
     "output_type": "display_data"
    },
    {
     "data": {
      "text/markdown": [
       "<span style=\"color:#33cc99\">Solution:</span> \n",
       "```python\n",
       "best_rating_per_price = reviews.groupby('price')['points'].max().sort_index()\n",
       "```"
      ],
      "text/plain": [
       "Solution: \n",
       "```python\n",
       "best_rating_per_price = reviews.groupby('price')['points'].max().sort_index()\n",
       "```"
      ]
     },
     "metadata": {},
     "output_type": "display_data"
    }
   ],
   "source": [
    "#q2.hint()\n",
    "q2.solution()"
   ]
  },
  {
   "cell_type": "markdown",
   "id": "2db1af69",
   "metadata": {
    "papermill": {
     "duration": 0.004822,
     "end_time": "2025-08-06T16:43:34.169886",
     "exception": false,
     "start_time": "2025-08-06T16:43:34.165064",
     "status": "completed"
    },
    "tags": []
   },
   "source": [
    "## 3.\n",
    "What are the minimum and maximum prices for each `variety` of wine? Create a `DataFrame` whose index is the `variety` category from the dataset and whose values are the `min` and `max` values thereof."
   ]
  },
  {
   "cell_type": "code",
   "execution_count": 6,
   "id": "2b3f50f8",
   "metadata": {
    "execution": {
     "iopub.execute_input": "2025-08-06T16:43:34.181069Z",
     "iopub.status.busy": "2025-08-06T16:43:34.180748Z",
     "iopub.status.idle": "2025-08-06T16:43:34.202542Z",
     "shell.execute_reply": "2025-08-06T16:43:34.201780Z"
    },
    "papermill": {
     "duration": 0.028914,
     "end_time": "2025-08-06T16:43:34.203802",
     "exception": false,
     "start_time": "2025-08-06T16:43:34.174888",
     "status": "completed"
    },
    "tags": []
   },
   "outputs": [
    {
     "data": {
      "application/javascript": [
       "parent.postMessage({\"jupyterEvent\": \"custom.exercise_interaction\", \"data\": {\"outcomeType\": 1, \"valueTowardsCompletion\": 0.16666666666666666, \"interactionType\": 1, \"questionType\": 1, \"questionId\": \"3_PriceExtremes\", \"learnToolsVersion\": \"0.3.5\", \"failureMessage\": \"\", \"exceptionClass\": \"\", \"trace\": \"\"}}, \"*\")"
      ],
      "text/plain": [
       "<IPython.core.display.Javascript object>"
      ]
     },
     "metadata": {},
     "output_type": "display_data"
    },
    {
     "data": {
      "text/markdown": [
       "<span style=\"color:#33cc33\">Correct</span>"
      ],
      "text/plain": [
       "Correct"
      ]
     },
     "metadata": {},
     "output_type": "display_data"
    }
   ],
   "source": [
    "price_extremes = reviews.groupby('variety').price.agg(['min', 'max'])\n",
    "\n",
    "# Check your answer\n",
    "q3.check()"
   ]
  },
  {
   "cell_type": "code",
   "execution_count": 7,
   "id": "81f2cd60",
   "metadata": {
    "execution": {
     "iopub.execute_input": "2025-08-06T16:43:34.215595Z",
     "iopub.status.busy": "2025-08-06T16:43:34.215267Z",
     "iopub.status.idle": "2025-08-06T16:43:34.218855Z",
     "shell.execute_reply": "2025-08-06T16:43:34.218230Z"
    },
    "papermill": {
     "duration": 0.011111,
     "end_time": "2025-08-06T16:43:34.220074",
     "exception": false,
     "start_time": "2025-08-06T16:43:34.208963",
     "status": "completed"
    },
    "tags": []
   },
   "outputs": [],
   "source": [
    "#q3.hint()\n",
    "#q3.solution()"
   ]
  },
  {
   "cell_type": "markdown",
   "id": "7b6b369a",
   "metadata": {
    "papermill": {
     "duration": 0.004799,
     "end_time": "2025-08-06T16:43:34.230046",
     "exception": false,
     "start_time": "2025-08-06T16:43:34.225247",
     "status": "completed"
    },
    "tags": []
   },
   "source": [
    "## 4.\n",
    "What are the most expensive wine varieties? Create a variable `sorted_varieties` containing a copy of the dataframe from the previous question where varieties are sorted in descending order based on minimum price, then on maximum price (to break ties)."
   ]
  },
  {
   "cell_type": "code",
   "execution_count": 8,
   "id": "7149d45b",
   "metadata": {
    "execution": {
     "iopub.execute_input": "2025-08-06T16:43:34.241664Z",
     "iopub.status.busy": "2025-08-06T16:43:34.241332Z",
     "iopub.status.idle": "2025-08-06T16:43:34.251194Z",
     "shell.execute_reply": "2025-08-06T16:43:34.250436Z"
    },
    "papermill": {
     "duration": 0.017327,
     "end_time": "2025-08-06T16:43:34.252521",
     "exception": false,
     "start_time": "2025-08-06T16:43:34.235194",
     "status": "completed"
    },
    "tags": []
   },
   "outputs": [
    {
     "data": {
      "application/javascript": [
       "parent.postMessage({\"jupyterEvent\": \"custom.exercise_interaction\", \"data\": {\"outcomeType\": 1, \"valueTowardsCompletion\": 0.16666666666666666, \"interactionType\": 1, \"questionType\": 1, \"questionId\": \"4_SortedVarieties\", \"learnToolsVersion\": \"0.3.5\", \"failureMessage\": \"\", \"exceptionClass\": \"\", \"trace\": \"\"}}, \"*\")"
      ],
      "text/plain": [
       "<IPython.core.display.Javascript object>"
      ]
     },
     "metadata": {},
     "output_type": "display_data"
    },
    {
     "data": {
      "text/markdown": [
       "<span style=\"color:#33cc33\">Correct</span>"
      ],
      "text/plain": [
       "Correct"
      ]
     },
     "metadata": {},
     "output_type": "display_data"
    }
   ],
   "source": [
    "sorted_varieties = price_extremes.sort_values(by=['min', 'max'], ascending=False)\n",
    "\n",
    "# Check your answer\n",
    "q4.check()"
   ]
  },
  {
   "cell_type": "code",
   "execution_count": 9,
   "id": "49826b81",
   "metadata": {
    "execution": {
     "iopub.execute_input": "2025-08-06T16:43:34.264398Z",
     "iopub.status.busy": "2025-08-06T16:43:34.264067Z",
     "iopub.status.idle": "2025-08-06T16:43:34.268468Z",
     "shell.execute_reply": "2025-08-06T16:43:34.267339Z"
    },
    "papermill": {
     "duration": 0.01196,
     "end_time": "2025-08-06T16:43:34.269846",
     "exception": false,
     "start_time": "2025-08-06T16:43:34.257886",
     "status": "completed"
    },
    "tags": []
   },
   "outputs": [],
   "source": [
    "#q4.hint()\n",
    "#q4.solution()"
   ]
  },
  {
   "cell_type": "markdown",
   "id": "6dffb2ca",
   "metadata": {
    "papermill": {
     "duration": 0.004928,
     "end_time": "2025-08-06T16:43:34.280184",
     "exception": false,
     "start_time": "2025-08-06T16:43:34.275256",
     "status": "completed"
    },
    "tags": []
   },
   "source": [
    "## 5.\n",
    "Create a `Series` whose index is reviewers and whose values is the average review score given out by that reviewer. Hint: you will need the `taster_name` and `points` columns."
   ]
  },
  {
   "cell_type": "code",
   "execution_count": 10,
   "id": "1ceb4a4d",
   "metadata": {
    "execution": {
     "iopub.execute_input": "2025-08-06T16:43:34.291698Z",
     "iopub.status.busy": "2025-08-06T16:43:34.291373Z",
     "iopub.status.idle": "2025-08-06T16:43:34.310342Z",
     "shell.execute_reply": "2025-08-06T16:43:34.309568Z"
    },
    "papermill": {
     "duration": 0.026333,
     "end_time": "2025-08-06T16:43:34.311735",
     "exception": false,
     "start_time": "2025-08-06T16:43:34.285402",
     "status": "completed"
    },
    "tags": []
   },
   "outputs": [
    {
     "data": {
      "application/javascript": [
       "parent.postMessage({\"jupyterEvent\": \"custom.exercise_interaction\", \"data\": {\"outcomeType\": 1, \"valueTowardsCompletion\": 0.16666666666666666, \"interactionType\": 1, \"questionType\": 1, \"questionId\": \"5_ReviewerMeanRatings\", \"learnToolsVersion\": \"0.3.5\", \"failureMessage\": \"\", \"exceptionClass\": \"\", \"trace\": \"\"}}, \"*\")"
      ],
      "text/plain": [
       "<IPython.core.display.Javascript object>"
      ]
     },
     "metadata": {},
     "output_type": "display_data"
    },
    {
     "data": {
      "text/markdown": [
       "<span style=\"color:#33cc33\">Correct</span>"
      ],
      "text/plain": [
       "Correct"
      ]
     },
     "metadata": {},
     "output_type": "display_data"
    }
   ],
   "source": [
    "reviewer_mean_ratings = reviews.groupby('taster_name')['points'].mean()\n",
    "\n",
    "# Check your answer\n",
    "q5.check()"
   ]
  },
  {
   "cell_type": "code",
   "execution_count": 11,
   "id": "6e2320ca",
   "metadata": {
    "execution": {
     "iopub.execute_input": "2025-08-06T16:43:34.324057Z",
     "iopub.status.busy": "2025-08-06T16:43:34.323717Z",
     "iopub.status.idle": "2025-08-06T16:43:34.327736Z",
     "shell.execute_reply": "2025-08-06T16:43:34.326838Z"
    },
    "papermill": {
     "duration": 0.011855,
     "end_time": "2025-08-06T16:43:34.329163",
     "exception": false,
     "start_time": "2025-08-06T16:43:34.317308",
     "status": "completed"
    },
    "tags": []
   },
   "outputs": [],
   "source": [
    "#q5.hint()\n",
    "#q5.solution()"
   ]
  },
  {
   "cell_type": "markdown",
   "id": "bd922413",
   "metadata": {
    "papermill": {
     "duration": 0.005307,
     "end_time": "2025-08-06T16:43:34.340362",
     "exception": false,
     "start_time": "2025-08-06T16:43:34.335055",
     "status": "completed"
    },
    "tags": []
   },
   "source": [
    "Are there significant differences in the average scores assigned by the various reviewers? Run the cell below to use the `describe()` method to see a summary of the range of values."
   ]
  },
  {
   "cell_type": "code",
   "execution_count": 12,
   "id": "32c46ec3",
   "metadata": {
    "execution": {
     "iopub.execute_input": "2025-08-06T16:43:34.352871Z",
     "iopub.status.busy": "2025-08-06T16:43:34.352561Z",
     "iopub.status.idle": "2025-08-06T16:43:34.361713Z",
     "shell.execute_reply": "2025-08-06T16:43:34.360929Z"
    },
    "papermill": {
     "duration": 0.017168,
     "end_time": "2025-08-06T16:43:34.363152",
     "exception": false,
     "start_time": "2025-08-06T16:43:34.345984",
     "status": "completed"
    },
    "tags": []
   },
   "outputs": [
    {
     "data": {
      "text/plain": [
       "count    19.000000\n",
       "mean     88.233026\n",
       "std       1.243610\n",
       "min      85.855422\n",
       "25%      87.323501\n",
       "50%      88.536235\n",
       "75%      88.975256\n",
       "max      90.562551\n",
       "Name: points, dtype: float64"
      ]
     },
     "execution_count": 12,
     "metadata": {},
     "output_type": "execute_result"
    }
   ],
   "source": [
    "reviewer_mean_ratings.describe()"
   ]
  },
  {
   "cell_type": "markdown",
   "id": "453268a2",
   "metadata": {
    "papermill": {
     "duration": 0.005514,
     "end_time": "2025-08-06T16:43:34.374458",
     "exception": false,
     "start_time": "2025-08-06T16:43:34.368944",
     "status": "completed"
    },
    "tags": []
   },
   "source": [
    "## 6.\n",
    "What combination of countries and varieties are most common? Create a `Series` whose index is a `MultiIndex`of `{country, variety}` pairs. For example, a pinot noir produced in the US should map to `{\"US\", \"Pinot Noir\"}`. Sort the values in the `Series` in descending order based on wine count."
   ]
  },
  {
   "cell_type": "code",
   "execution_count": 13,
   "id": "af7a3ddf",
   "metadata": {
    "execution": {
     "iopub.execute_input": "2025-08-06T16:43:34.386865Z",
     "iopub.status.busy": "2025-08-06T16:43:34.386567Z",
     "iopub.status.idle": "2025-08-06T16:43:34.420488Z",
     "shell.execute_reply": "2025-08-06T16:43:34.419742Z"
    },
    "papermill": {
     "duration": 0.041668,
     "end_time": "2025-08-06T16:43:34.421826",
     "exception": false,
     "start_time": "2025-08-06T16:43:34.380158",
     "status": "completed"
    },
    "tags": []
   },
   "outputs": [
    {
     "data": {
      "application/javascript": [
       "parent.postMessage({\"jupyterEvent\": \"custom.exercise_interaction\", \"data\": {\"outcomeType\": 1, \"valueTowardsCompletion\": 0.16666666666666666, \"interactionType\": 1, \"questionType\": 1, \"questionId\": \"6_GroupbyCountryVariety\", \"learnToolsVersion\": \"0.3.5\", \"failureMessage\": \"\", \"exceptionClass\": \"\", \"trace\": \"\"}}, \"*\")"
      ],
      "text/plain": [
       "<IPython.core.display.Javascript object>"
      ]
     },
     "metadata": {},
     "output_type": "display_data"
    },
    {
     "data": {
      "text/markdown": [
       "<span style=\"color:#33cc33\">Correct</span>"
      ],
      "text/plain": [
       "Correct"
      ]
     },
     "metadata": {},
     "output_type": "display_data"
    }
   ],
   "source": [
    "country_variety_counts = (reviews.groupby(['country', 'variety'])).size().sort_values( ascending=False)\n",
    "\n",
    "# Check your answer\n",
    "q6.check()"
   ]
  },
  {
   "cell_type": "code",
   "execution_count": 14,
   "id": "7b556b2c",
   "metadata": {
    "execution": {
     "iopub.execute_input": "2025-08-06T16:43:34.435028Z",
     "iopub.status.busy": "2025-08-06T16:43:34.434735Z",
     "iopub.status.idle": "2025-08-06T16:43:34.438372Z",
     "shell.execute_reply": "2025-08-06T16:43:34.437634Z"
    },
    "papermill": {
     "duration": 0.011916,
     "end_time": "2025-08-06T16:43:34.439752",
     "exception": false,
     "start_time": "2025-08-06T16:43:34.427836",
     "status": "completed"
    },
    "tags": []
   },
   "outputs": [],
   "source": [
    "#q6.hint()\n",
    "#q6.solution()"
   ]
  },
  {
   "cell_type": "markdown",
   "id": "38a75e47",
   "metadata": {
    "papermill": {
     "duration": 0.005996,
     "end_time": "2025-08-06T16:43:34.452120",
     "exception": false,
     "start_time": "2025-08-06T16:43:34.446124",
     "status": "completed"
    },
    "tags": []
   },
   "source": [
    "# Keep going\n",
    "\n",
    "Move on to the [**data types and missing data**](https://www.kaggle.com/residentmario/data-types-and-missing-values)."
   ]
  },
  {
   "cell_type": "markdown",
   "id": "d41abb89",
   "metadata": {
    "papermill": {
     "duration": 0.005641,
     "end_time": "2025-08-06T16:43:34.463695",
     "exception": false,
     "start_time": "2025-08-06T16:43:34.458054",
     "status": "completed"
    },
    "tags": []
   },
   "source": [
    "---\n",
    "\n",
    "\n",
    "\n",
    "\n",
    "*Have questions or comments? Visit the [course discussion forum](https://www.kaggle.com/learn/pandas/discussion) to chat with other learners.*"
   ]
  }
 ],
 "metadata": {
  "kaggle": {
   "accelerator": "none",
   "dataSources": [
    {
     "datasetId": 655,
     "sourceId": 1252,
     "sourceType": "datasetVersion"
    },
    {
     "datasetId": 2321,
     "sourceId": 3919,
     "sourceType": "datasetVersion"
    },
    {
     "datasetId": 2894,
     "sourceId": 4877,
     "sourceType": "datasetVersion"
    },
    {
     "datasetId": 3491,
     "sourceId": 5624,
     "sourceType": "datasetVersion"
    },
    {
     "datasetId": 1442,
     "sourceId": 8172,
     "sourceType": "datasetVersion"
    },
    {
     "datasetId": 9366,
     "sourceId": 13206,
     "sourceType": "datasetVersion"
    },
    {
     "datasetId": 179555,
     "sourceId": 403916,
     "sourceType": "datasetVersion"
    },
    {
     "datasetId": 4549,
     "sourceId": 466349,
     "sourceType": "datasetVersion"
    },
    {
     "datasetId": 2478,
     "sourceId": 1151655,
     "sourceType": "datasetVersion"
    },
    {
     "datasetId": 10128,
     "sourceId": 5438389,
     "sourceType": "datasetVersion"
    }
   ],
   "isGpuEnabled": false,
   "isInternetEnabled": false,
   "language": "python",
   "sourceType": "notebook"
  },
  "kernelspec": {
   "display_name": "Python 3",
   "language": "python",
   "name": "python3"
  },
  "language_info": {
   "codemirror_mode": {
    "name": "ipython",
    "version": 3
   },
   "file_extension": ".py",
   "mimetype": "text/x-python",
   "name": "python",
   "nbconvert_exporter": "python",
   "pygments_lexer": "ipython3",
   "version": "3.11.13"
  },
  "papermill": {
   "default_parameters": {},
   "duration": 12.521085,
   "end_time": "2025-08-06T16:43:35.089596",
   "environment_variables": {},
   "exception": null,
   "input_path": "__notebook__.ipynb",
   "output_path": "__notebook__.ipynb",
   "parameters": {},
   "start_time": "2025-08-06T16:43:22.568511",
   "version": "2.6.0"
  }
 },
 "nbformat": 4,
 "nbformat_minor": 5
}
