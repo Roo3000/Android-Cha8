{
 "cells": [
  {
   "cell_type": "markdown",
   "id": "343decb2",
   "metadata": {
    "papermill": {
     "duration": 0.003949,
     "end_time": "2025-08-06T16:57:46.829889",
     "exception": false,
     "start_time": "2025-08-06T16:57:46.825940",
     "status": "completed"
    },
    "tags": []
   },
   "source": [
    "**This notebook is an exercise in the [Pandas](https://www.kaggle.com/learn/pandas) course.  You can reference the tutorial at [this link](https://www.kaggle.com/residentmario/data-types-and-missing-values).**\n",
    "\n",
    "---\n"
   ]
  },
  {
   "cell_type": "markdown",
   "id": "75dd71d8",
   "metadata": {
    "papermill": {
     "duration": 0.002776,
     "end_time": "2025-08-06T16:57:46.835853",
     "exception": false,
     "start_time": "2025-08-06T16:57:46.833077",
     "status": "completed"
    },
    "tags": []
   },
   "source": [
    "# Introduction\n",
    "\n",
    "Run the following cell to load your data and some utility functions."
   ]
  },
  {
   "cell_type": "code",
   "execution_count": 1,
   "id": "4fd9db86",
   "metadata": {
    "execution": {
     "iopub.execute_input": "2025-08-06T16:57:46.843083Z",
     "iopub.status.busy": "2025-08-06T16:57:46.842764Z",
     "iopub.status.idle": "2025-08-06T16:57:51.536846Z",
     "shell.execute_reply": "2025-08-06T16:57:51.535971Z"
    },
    "papermill": {
     "duration": 4.699468,
     "end_time": "2025-08-06T16:57:51.538269",
     "exception": false,
     "start_time": "2025-08-06T16:57:46.838801",
     "status": "completed"
    },
    "tags": []
   },
   "outputs": [
    {
     "name": "stdout",
     "output_type": "stream",
     "text": [
      "Setup complete.\n"
     ]
    }
   ],
   "source": [
    "import pandas as pd\n",
    "\n",
    "reviews = pd.read_csv(\"../input/wine-reviews/winemag-data-130k-v2.csv\", index_col=0)\n",
    "\n",
    "from learntools.core import binder; binder.bind(globals())\n",
    "from learntools.pandas.data_types_and_missing_data import *\n",
    "print(\"Setup complete.\")"
   ]
  },
  {
   "cell_type": "markdown",
   "id": "7ab0943b",
   "metadata": {
    "papermill": {
     "duration": 0.003028,
     "end_time": "2025-08-06T16:57:51.544621",
     "exception": false,
     "start_time": "2025-08-06T16:57:51.541593",
     "status": "completed"
    },
    "tags": []
   },
   "source": [
    "# Exercises"
   ]
  },
  {
   "cell_type": "markdown",
   "id": "08901214",
   "metadata": {
    "papermill": {
     "duration": 0.003219,
     "end_time": "2025-08-06T16:57:51.550735",
     "exception": false,
     "start_time": "2025-08-06T16:57:51.547516",
     "status": "completed"
    },
    "tags": []
   },
   "source": [
    "## 1. \n",
    "What is the data type of the `points` column in the dataset?"
   ]
  },
  {
   "cell_type": "code",
   "execution_count": 2,
   "id": "a70889eb",
   "metadata": {
    "execution": {
     "iopub.execute_input": "2025-08-06T16:57:51.558803Z",
     "iopub.status.busy": "2025-08-06T16:57:51.558378Z",
     "iopub.status.idle": "2025-08-06T16:57:51.567237Z",
     "shell.execute_reply": "2025-08-06T16:57:51.566163Z"
    },
    "papermill": {
     "duration": 0.01509,
     "end_time": "2025-08-06T16:57:51.569077",
     "exception": false,
     "start_time": "2025-08-06T16:57:51.553987",
     "status": "completed"
    },
    "tags": []
   },
   "outputs": [
    {
     "data": {
      "application/javascript": [
       "parent.postMessage({\"jupyterEvent\": \"custom.exercise_interaction\", \"data\": {\"outcomeType\": 1, \"valueTowardsCompletion\": 0.25, \"interactionType\": 1, \"questionType\": 1, \"questionId\": \"1_PointsDtype\", \"learnToolsVersion\": \"0.3.5\", \"failureMessage\": \"\", \"exceptionClass\": \"\", \"trace\": \"\"}}, \"*\")"
      ],
      "text/plain": [
       "<IPython.core.display.Javascript object>"
      ]
     },
     "metadata": {},
     "output_type": "display_data"
    },
    {
     "data": {
      "text/markdown": [
       "<span style=\"color:#33cc33\">Correct</span>"
      ],
      "text/plain": [
       "Correct"
      ]
     },
     "metadata": {},
     "output_type": "display_data"
    }
   ],
   "source": [
    "# Your code here\n",
    "dtype = reviews.points.dtype\n",
    "\n",
    "# Check your answer\n",
    "q1.check()"
   ]
  },
  {
   "cell_type": "code",
   "execution_count": 3,
   "id": "0bf9f8ce",
   "metadata": {
    "execution": {
     "iopub.execute_input": "2025-08-06T16:57:51.577871Z",
     "iopub.status.busy": "2025-08-06T16:57:51.577324Z",
     "iopub.status.idle": "2025-08-06T16:57:51.585168Z",
     "shell.execute_reply": "2025-08-06T16:57:51.584156Z"
    },
    "papermill": {
     "duration": 0.01356,
     "end_time": "2025-08-06T16:57:51.586666",
     "exception": false,
     "start_time": "2025-08-06T16:57:51.573106",
     "status": "completed"
    },
    "tags": []
   },
   "outputs": [
    {
     "data": {
      "application/javascript": [
       "parent.postMessage({\"jupyterEvent\": \"custom.exercise_interaction\", \"data\": {\"interactionType\": 3, \"questionType\": 1, \"questionId\": \"1_PointsDtype\", \"learnToolsVersion\": \"0.3.5\", \"valueTowardsCompletion\": 0.0, \"failureMessage\": \"\", \"exceptionClass\": \"\", \"trace\": \"\", \"outcomeType\": 4}}, \"*\")"
      ],
      "text/plain": [
       "<IPython.core.display.Javascript object>"
      ]
     },
     "metadata": {},
     "output_type": "display_data"
    },
    {
     "data": {
      "text/markdown": [
       "<span style=\"color:#33cc99\">Solution:</span> \n",
       "```python\n",
       "dtype = reviews.points.dtype\n",
       "```"
      ],
      "text/plain": [
       "Solution: \n",
       "```python\n",
       "dtype = reviews.points.dtype\n",
       "```"
      ]
     },
     "metadata": {},
     "output_type": "display_data"
    }
   ],
   "source": [
    "#q1.hint()\n",
    "q1.solution()"
   ]
  },
  {
   "cell_type": "markdown",
   "id": "f9d5bd78",
   "metadata": {
    "papermill": {
     "duration": 0.003186,
     "end_time": "2025-08-06T16:57:51.594124",
     "exception": false,
     "start_time": "2025-08-06T16:57:51.590938",
     "status": "completed"
    },
    "tags": []
   },
   "source": [
    "## 2. \n",
    "Create a Series from entries in the `points` column, but convert the entries to strings. Hint: strings are `str` in native Python."
   ]
  },
  {
   "cell_type": "code",
   "execution_count": 4,
   "id": "35553e13",
   "metadata": {
    "execution": {
     "iopub.execute_input": "2025-08-06T16:57:51.602811Z",
     "iopub.status.busy": "2025-08-06T16:57:51.602551Z",
     "iopub.status.idle": "2025-08-06T16:57:51.638364Z",
     "shell.execute_reply": "2025-08-06T16:57:51.637380Z"
    },
    "papermill": {
     "duration": 0.042574,
     "end_time": "2025-08-06T16:57:51.640155",
     "exception": false,
     "start_time": "2025-08-06T16:57:51.597581",
     "status": "completed"
    },
    "tags": []
   },
   "outputs": [
    {
     "data": {
      "application/javascript": [
       "parent.postMessage({\"jupyterEvent\": \"custom.exercise_interaction\", \"data\": {\"outcomeType\": 1, \"valueTowardsCompletion\": 0.25, \"interactionType\": 1, \"questionType\": 1, \"questionId\": \"2_StrPoints\", \"learnToolsVersion\": \"0.3.5\", \"failureMessage\": \"\", \"exceptionClass\": \"\", \"trace\": \"\"}}, \"*\")"
      ],
      "text/plain": [
       "<IPython.core.display.Javascript object>"
      ]
     },
     "metadata": {},
     "output_type": "display_data"
    },
    {
     "data": {
      "text/markdown": [
       "<span style=\"color:#33cc33\">Correct</span>"
      ],
      "text/plain": [
       "Correct"
      ]
     },
     "metadata": {},
     "output_type": "display_data"
    }
   ],
   "source": [
    "point_strings = reviews.points.astype('str')\n",
    "\n",
    "# Check your answer\n",
    "q2.check()"
   ]
  },
  {
   "cell_type": "code",
   "execution_count": 5,
   "id": "b622dd67",
   "metadata": {
    "execution": {
     "iopub.execute_input": "2025-08-06T16:57:51.648469Z",
     "iopub.status.busy": "2025-08-06T16:57:51.648154Z",
     "iopub.status.idle": "2025-08-06T16:57:51.652153Z",
     "shell.execute_reply": "2025-08-06T16:57:51.651308Z"
    },
    "papermill": {
     "duration": 0.009711,
     "end_time": "2025-08-06T16:57:51.653603",
     "exception": false,
     "start_time": "2025-08-06T16:57:51.643892",
     "status": "completed"
    },
    "tags": []
   },
   "outputs": [],
   "source": [
    "#q2.hint()\n",
    "#q2.solution()"
   ]
  },
  {
   "cell_type": "markdown",
   "id": "03e9b8de",
   "metadata": {
    "papermill": {
     "duration": 0.00325,
     "end_time": "2025-08-06T16:57:51.660686",
     "exception": false,
     "start_time": "2025-08-06T16:57:51.657436",
     "status": "completed"
    },
    "tags": []
   },
   "source": [
    "## 3.\n",
    "Sometimes the price column is null. How many reviews in the dataset are missing a price?"
   ]
  },
  {
   "cell_type": "code",
   "execution_count": 6,
   "id": "4723eb94",
   "metadata": {
    "execution": {
     "iopub.execute_input": "2025-08-06T16:57:51.668852Z",
     "iopub.status.busy": "2025-08-06T16:57:51.668468Z",
     "iopub.status.idle": "2025-08-06T16:57:51.677144Z",
     "shell.execute_reply": "2025-08-06T16:57:51.676227Z"
    },
    "papermill": {
     "duration": 0.014419,
     "end_time": "2025-08-06T16:57:51.678563",
     "exception": false,
     "start_time": "2025-08-06T16:57:51.664144",
     "status": "completed"
    },
    "tags": []
   },
   "outputs": [
    {
     "data": {
      "application/javascript": [
       "parent.postMessage({\"jupyterEvent\": \"custom.exercise_interaction\", \"data\": {\"outcomeType\": 1, \"valueTowardsCompletion\": 0.25, \"interactionType\": 1, \"questionType\": 1, \"questionId\": \"3_CountMissingPrices\", \"learnToolsVersion\": \"0.3.5\", \"failureMessage\": \"\", \"exceptionClass\": \"\", \"trace\": \"\"}}, \"*\")"
      ],
      "text/plain": [
       "<IPython.core.display.Javascript object>"
      ]
     },
     "metadata": {},
     "output_type": "display_data"
    },
    {
     "data": {
      "text/markdown": [
       "<span style=\"color:#33cc33\">Correct</span>"
      ],
      "text/plain": [
       "Correct"
      ]
     },
     "metadata": {},
     "output_type": "display_data"
    }
   ],
   "source": [
    "n_missing_prices = pd.isnull(reviews.price).sum()\n",
    "\n",
    "# Check your answer\n",
    "q3.check()"
   ]
  },
  {
   "cell_type": "code",
   "execution_count": 7,
   "id": "0753f809",
   "metadata": {
    "execution": {
     "iopub.execute_input": "2025-08-06T16:57:51.686895Z",
     "iopub.status.busy": "2025-08-06T16:57:51.686630Z",
     "iopub.status.idle": "2025-08-06T16:57:51.694953Z",
     "shell.execute_reply": "2025-08-06T16:57:51.694073Z"
    },
    "papermill": {
     "duration": 0.014537,
     "end_time": "2025-08-06T16:57:51.696853",
     "exception": false,
     "start_time": "2025-08-06T16:57:51.682316",
     "status": "completed"
    },
    "tags": []
   },
   "outputs": [
    {
     "data": {
      "application/javascript": [
       "parent.postMessage({\"jupyterEvent\": \"custom.exercise_interaction\", \"data\": {\"interactionType\": 3, \"questionType\": 1, \"questionId\": \"3_CountMissingPrices\", \"learnToolsVersion\": \"0.3.5\", \"valueTowardsCompletion\": 0.0, \"failureMessage\": \"\", \"exceptionClass\": \"\", \"trace\": \"\", \"outcomeType\": 4}}, \"*\")"
      ],
      "text/plain": [
       "<IPython.core.display.Javascript object>"
      ]
     },
     "metadata": {},
     "output_type": "display_data"
    },
    {
     "data": {
      "text/markdown": [
       "<span style=\"color:#33cc99\">Solution:</span> \n",
       "```python\n",
       "missing_price_reviews = reviews[reviews.price.isnull()]\n",
       "n_missing_prices = len(missing_price_reviews)\n",
       "# Cute alternative solution: if we sum a boolean series, True is treated as 1 and False as 0\n",
       "n_missing_prices = reviews.price.isnull().sum()\n",
       "# or equivalently:\n",
       "n_missing_prices = pd.isnull(reviews.price).sum()\n",
       "\n",
       "```"
      ],
      "text/plain": [
       "Solution: \n",
       "```python\n",
       "missing_price_reviews = reviews[reviews.price.isnull()]\n",
       "n_missing_prices = len(missing_price_reviews)\n",
       "# Cute alternative solution: if we sum a boolean series, True is treated as 1 and False as 0\n",
       "n_missing_prices = reviews.price.isnull().sum()\n",
       "# or equivalently:\n",
       "n_missing_prices = pd.isnull(reviews.price).sum()\n",
       "\n",
       "```"
      ]
     },
     "metadata": {},
     "output_type": "display_data"
    }
   ],
   "source": [
    "#q3.hint()\n",
    "q3.solution()"
   ]
  },
  {
   "cell_type": "markdown",
   "id": "ca924876",
   "metadata": {
    "papermill": {
     "duration": 0.00355,
     "end_time": "2025-08-06T16:57:51.704332",
     "exception": false,
     "start_time": "2025-08-06T16:57:51.700782",
     "status": "completed"
    },
    "tags": []
   },
   "source": [
    "## 4.\n",
    "What are the most common wine-producing regions? Create a Series counting the number of times each value occurs in the `region_1` field. This field is often missing data, so replace missing values with `Unknown`. Sort in descending order.  Your output should look something like this:\n",
    "\n",
    "```\n",
    "Unknown                    21247\n",
    "Napa Valley                 4480\n",
    "                           ...  \n",
    "Bardolino Superiore            1\n",
    "Primitivo del Tarantino        1\n",
    "Name: region_1, Length: 1230, dtype: int64\n",
    "```"
   ]
  },
  {
   "cell_type": "code",
   "execution_count": 8,
   "id": "cc38bbfd",
   "metadata": {
    "execution": {
     "iopub.execute_input": "2025-08-06T16:57:51.712974Z",
     "iopub.status.busy": "2025-08-06T16:57:51.712671Z",
     "iopub.status.idle": "2025-08-06T16:57:51.753753Z",
     "shell.execute_reply": "2025-08-06T16:57:51.752771Z"
    },
    "papermill": {
     "duration": 0.047237,
     "end_time": "2025-08-06T16:57:51.755227",
     "exception": false,
     "start_time": "2025-08-06T16:57:51.707990",
     "status": "completed"
    },
    "tags": []
   },
   "outputs": [
    {
     "data": {
      "application/javascript": [
       "parent.postMessage({\"jupyterEvent\": \"custom.exercise_interaction\", \"data\": {\"outcomeType\": 1, \"valueTowardsCompletion\": 0.25, \"interactionType\": 1, \"questionType\": 2, \"questionId\": \"4_ReviewsPerRegion\", \"learnToolsVersion\": \"0.3.5\", \"failureMessage\": \"\", \"exceptionClass\": \"\", \"trace\": \"\"}}, \"*\")"
      ],
      "text/plain": [
       "<IPython.core.display.Javascript object>"
      ]
     },
     "metadata": {},
     "output_type": "display_data"
    },
    {
     "data": {
      "text/markdown": [
       "<span style=\"color:#33cc33\">Correct</span>"
      ],
      "text/plain": [
       "Correct"
      ]
     },
     "metadata": {},
     "output_type": "display_data"
    }
   ],
   "source": [
    "reviews_per_region = reviews['region_1'].fillna('Unknown').value_counts()\n",
    "\n",
    "# Check your answer\n",
    "q4.check()"
   ]
  },
  {
   "cell_type": "code",
   "execution_count": 9,
   "id": "a4dd4e6c",
   "metadata": {
    "execution": {
     "iopub.execute_input": "2025-08-06T16:57:51.765033Z",
     "iopub.status.busy": "2025-08-06T16:57:51.764651Z",
     "iopub.status.idle": "2025-08-06T16:57:51.771239Z",
     "shell.execute_reply": "2025-08-06T16:57:51.770445Z"
    },
    "papermill": {
     "duration": 0.013908,
     "end_time": "2025-08-06T16:57:51.773486",
     "exception": false,
     "start_time": "2025-08-06T16:57:51.759578",
     "status": "completed"
    },
    "tags": []
   },
   "outputs": [
    {
     "data": {
      "application/javascript": [
       "parent.postMessage({\"jupyterEvent\": \"custom.exercise_interaction\", \"data\": {\"interactionType\": 3, \"questionType\": 2, \"questionId\": \"4_ReviewsPerRegion\", \"learnToolsVersion\": \"0.3.5\", \"valueTowardsCompletion\": 0.0, \"failureMessage\": \"\", \"exceptionClass\": \"\", \"trace\": \"\", \"outcomeType\": 4}}, \"*\")"
      ],
      "text/plain": [
       "<IPython.core.display.Javascript object>"
      ]
     },
     "metadata": {},
     "output_type": "display_data"
    },
    {
     "data": {
      "text/markdown": [
       "<span style=\"color:#33cc99\">Solution:</span> \n",
       "```python\n",
       "reviews_per_region = reviews.region_1.fillna('Unknown').value_counts().sort_values(ascending=False)\n",
       "```"
      ],
      "text/plain": [
       "Solution: \n",
       "```python\n",
       "reviews_per_region = reviews.region_1.fillna('Unknown').value_counts().sort_values(ascending=False)\n",
       "```"
      ]
     },
     "metadata": {},
     "output_type": "display_data"
    }
   ],
   "source": [
    "#q4.hint()\n",
    "q4.solution()"
   ]
  },
  {
   "cell_type": "markdown",
   "id": "dd6bae4c",
   "metadata": {
    "papermill": {
     "duration": 0.003913,
     "end_time": "2025-08-06T16:57:51.781697",
     "exception": false,
     "start_time": "2025-08-06T16:57:51.777784",
     "status": "completed"
    },
    "tags": []
   },
   "source": [
    "# Keep going\n",
    "\n",
    "Move on to **[renaming and combining](https://www.kaggle.com/residentmario/renaming-and-combining)**."
   ]
  },
  {
   "cell_type": "markdown",
   "id": "f3fc1072",
   "metadata": {
    "papermill": {
     "duration": 0.003847,
     "end_time": "2025-08-06T16:57:51.789889",
     "exception": false,
     "start_time": "2025-08-06T16:57:51.786042",
     "status": "completed"
    },
    "tags": []
   },
   "source": [
    "---\n",
    "\n",
    "\n",
    "\n",
    "\n",
    "*Have questions or comments? Visit the [course discussion forum](https://www.kaggle.com/learn/pandas/discussion) to chat with other learners.*"
   ]
  }
 ],
 "metadata": {
  "kaggle": {
   "accelerator": "none",
   "dataSources": [
    {
     "datasetId": 655,
     "sourceId": 1252,
     "sourceType": "datasetVersion"
    },
    {
     "datasetId": 2321,
     "sourceId": 3919,
     "sourceType": "datasetVersion"
    },
    {
     "datasetId": 2894,
     "sourceId": 4877,
     "sourceType": "datasetVersion"
    },
    {
     "datasetId": 3491,
     "sourceId": 5624,
     "sourceType": "datasetVersion"
    },
    {
     "datasetId": 1442,
     "sourceId": 8172,
     "sourceType": "datasetVersion"
    },
    {
     "datasetId": 9366,
     "sourceId": 13206,
     "sourceType": "datasetVersion"
    },
    {
     "datasetId": 179555,
     "sourceId": 403916,
     "sourceType": "datasetVersion"
    },
    {
     "datasetId": 4549,
     "sourceId": 466349,
     "sourceType": "datasetVersion"
    },
    {
     "datasetId": 2478,
     "sourceId": 1151655,
     "sourceType": "datasetVersion"
    },
    {
     "datasetId": 10128,
     "sourceId": 5438389,
     "sourceType": "datasetVersion"
    }
   ],
   "isGpuEnabled": false,
   "isInternetEnabled": false,
   "language": "python",
   "sourceType": "notebook"
  },
  "kernelspec": {
   "display_name": "Python 3",
   "language": "python",
   "name": "python3"
  },
  "language_info": {
   "codemirror_mode": {
    "name": "ipython",
    "version": 3
   },
   "file_extension": ".py",
   "mimetype": "text/x-python",
   "name": "python",
   "nbconvert_exporter": "python",
   "pygments_lexer": "ipython3",
   "version": "3.11.13"
  },
  "papermill": {
   "default_parameters": {},
   "duration": 10.332791,
   "end_time": "2025-08-06T16:57:52.313619",
   "environment_variables": {},
   "exception": null,
   "input_path": "__notebook__.ipynb",
   "output_path": "__notebook__.ipynb",
   "parameters": {},
   "start_time": "2025-08-06T16:57:41.980828",
   "version": "2.6.0"
  }
 },
 "nbformat": 4,
 "nbformat_minor": 5
}
