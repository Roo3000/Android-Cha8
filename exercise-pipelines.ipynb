{
 "cells": [
  {
   "cell_type": "markdown",
   "id": "44936825",
   "metadata": {
    "papermill": {
     "duration": 0.004805,
     "end_time": "2025-08-10T13:47:23.218943",
     "exception": false,
     "start_time": "2025-08-10T13:47:23.214138",
     "status": "completed"
    },
    "tags": []
   },
   "source": [
    "**This notebook is an exercise in the [Intermediate Machine Learning](https://www.kaggle.com/learn/intermediate-machine-learning) course.  You can reference the tutorial at [this link](https://www.kaggle.com/alexisbcook/pipelines).**\n",
    "\n",
    "---\n"
   ]
  },
  {
   "cell_type": "markdown",
   "id": "8f0b5cd3",
   "metadata": {
    "papermill": {
     "duration": 0.003508,
     "end_time": "2025-08-10T13:47:23.226529",
     "exception": false,
     "start_time": "2025-08-10T13:47:23.223021",
     "status": "completed"
    },
    "tags": []
   },
   "source": [
    "In this exercise, you will use **pipelines** to improve the efficiency of your machine learning code.\n",
    "\n",
    "# Setup\n",
    "\n",
    "The questions below will give you feedback on your work. Run the following cell to set up the feedback system."
   ]
  },
  {
   "cell_type": "code",
   "execution_count": 1,
   "id": "811029ea",
   "metadata": {
    "execution": {
     "iopub.execute_input": "2025-08-10T13:47:23.235159Z",
     "iopub.status.busy": "2025-08-10T13:47:23.234864Z",
     "iopub.status.idle": "2025-08-10T13:47:26.131038Z",
     "shell.execute_reply": "2025-08-10T13:47:26.130051Z"
    },
    "papermill": {
     "duration": 2.90221,
     "end_time": "2025-08-10T13:47:26.132506",
     "exception": false,
     "start_time": "2025-08-10T13:47:23.230296",
     "status": "completed"
    },
    "tags": []
   },
   "outputs": [
    {
     "name": "stdout",
     "output_type": "stream",
     "text": [
      "Setup Complete\n"
     ]
    }
   ],
   "source": [
    "# Set up code checking\n",
    "import os\n",
    "if not os.path.exists(\"../input/train.csv\"):\n",
    "    os.symlink(\"../input/home-data-for-ml-course/train.csv\", \"../input/train.csv\")  \n",
    "    os.symlink(\"../input/home-data-for-ml-course/test.csv\", \"../input/test.csv\") \n",
    "from learntools.core import binder\n",
    "binder.bind(globals())\n",
    "from learntools.ml_intermediate.ex4 import *\n",
    "print(\"Setup Complete\")"
   ]
  },
  {
   "cell_type": "markdown",
   "id": "daa3d8f7",
   "metadata": {
    "papermill": {
     "duration": 0.003815,
     "end_time": "2025-08-10T13:47:26.140385",
     "exception": false,
     "start_time": "2025-08-10T13:47:26.136570",
     "status": "completed"
    },
    "tags": []
   },
   "source": [
    "You will work with data from the [Housing Prices Competition for Kaggle Learn Users](https://www.kaggle.com/c/home-data-for-ml-course). \n",
    "\n",
    "![Ames Housing dataset image](https://storage.googleapis.com/kaggle-media/learn/images/lTJVG4e.png)\n",
    "\n",
    "Run the next code cell without changes to load the training and validation sets in `X_train`, `X_valid`, `y_train`, and `y_valid`.  The test set is loaded in `X_test`."
   ]
  },
  {
   "cell_type": "code",
   "execution_count": 2,
   "id": "14e58c14",
   "metadata": {
    "execution": {
     "iopub.execute_input": "2025-08-10T13:47:26.148961Z",
     "iopub.status.busy": "2025-08-10T13:47:26.148572Z",
     "iopub.status.idle": "2025-08-10T13:47:26.346265Z",
     "shell.execute_reply": "2025-08-10T13:47:26.345147Z"
    },
    "papermill": {
     "duration": 0.203952,
     "end_time": "2025-08-10T13:47:26.348023",
     "exception": false,
     "start_time": "2025-08-10T13:47:26.144071",
     "status": "completed"
    },
    "tags": []
   },
   "outputs": [],
   "source": [
    "import pandas as pd\n",
    "from sklearn.model_selection import train_test_split\n",
    "\n",
    "# Read the data\n",
    "X_full = pd.read_csv('../input/train.csv', index_col='Id')\n",
    "X_test_full = pd.read_csv('../input/test.csv', index_col='Id')\n",
    "\n",
    "# Remove rows with missing target, separate target from predictors\n",
    "X_full.dropna(axis=0, subset=['SalePrice'], inplace=True)\n",
    "y = X_full.SalePrice\n",
    "X_full.drop(['SalePrice'], axis=1, inplace=True)\n",
    "\n",
    "# Break off validation set from training data\n",
    "X_train_full, X_valid_full, y_train, y_valid = train_test_split(X_full, y, \n",
    "                                                                train_size=0.8, test_size=0.2,\n",
    "                                                                random_state=0)\n",
    "\n",
    "# \"Cardinality\" means the number of unique values in a column\n",
    "# Select categorical columns with relatively low cardinality (convenient but arbitrary)\n",
    "categorical_cols = [cname for cname in X_train_full.columns if\n",
    "                    X_train_full[cname].nunique() < 10 and \n",
    "                    X_train_full[cname].dtype == \"object\"]\n",
    "\n",
    "# Select numerical columns\n",
    "numerical_cols = [cname for cname in X_train_full.columns if \n",
    "                X_train_full[cname].dtype in ['int64', 'float64']]\n",
    "\n",
    "# Keep selected columns only\n",
    "my_cols = categorical_cols + numerical_cols\n",
    "X_train = X_train_full[my_cols].copy()\n",
    "X_valid = X_valid_full[my_cols].copy()\n",
    "X_test = X_test_full[my_cols].copy()"
   ]
  },
  {
   "cell_type": "code",
   "execution_count": 3,
   "id": "372df4ff",
   "metadata": {
    "execution": {
     "iopub.execute_input": "2025-08-10T13:47:26.357041Z",
     "iopub.status.busy": "2025-08-10T13:47:26.356761Z",
     "iopub.status.idle": "2025-08-10T13:47:26.381614Z",
     "shell.execute_reply": "2025-08-10T13:47:26.380700Z"
    },
    "papermill": {
     "duration": 0.031032,
     "end_time": "2025-08-10T13:47:26.383082",
     "exception": false,
     "start_time": "2025-08-10T13:47:26.352050",
     "status": "completed"
    },
    "tags": []
   },
   "outputs": [
    {
     "data": {
      "text/html": [
       "<div>\n",
       "<style scoped>\n",
       "    .dataframe tbody tr th:only-of-type {\n",
       "        vertical-align: middle;\n",
       "    }\n",
       "\n",
       "    .dataframe tbody tr th {\n",
       "        vertical-align: top;\n",
       "    }\n",
       "\n",
       "    .dataframe thead th {\n",
       "        text-align: right;\n",
       "    }\n",
       "</style>\n",
       "<table border=\"1\" class=\"dataframe\">\n",
       "  <thead>\n",
       "    <tr style=\"text-align: right;\">\n",
       "      <th></th>\n",
       "      <th>MSZoning</th>\n",
       "      <th>Street</th>\n",
       "      <th>Alley</th>\n",
       "      <th>LotShape</th>\n",
       "      <th>LandContour</th>\n",
       "      <th>Utilities</th>\n",
       "      <th>LotConfig</th>\n",
       "      <th>LandSlope</th>\n",
       "      <th>Condition1</th>\n",
       "      <th>Condition2</th>\n",
       "      <th>...</th>\n",
       "      <th>GarageArea</th>\n",
       "      <th>WoodDeckSF</th>\n",
       "      <th>OpenPorchSF</th>\n",
       "      <th>EnclosedPorch</th>\n",
       "      <th>3SsnPorch</th>\n",
       "      <th>ScreenPorch</th>\n",
       "      <th>PoolArea</th>\n",
       "      <th>MiscVal</th>\n",
       "      <th>MoSold</th>\n",
       "      <th>YrSold</th>\n",
       "    </tr>\n",
       "    <tr>\n",
       "      <th>Id</th>\n",
       "      <th></th>\n",
       "      <th></th>\n",
       "      <th></th>\n",
       "      <th></th>\n",
       "      <th></th>\n",
       "      <th></th>\n",
       "      <th></th>\n",
       "      <th></th>\n",
       "      <th></th>\n",
       "      <th></th>\n",
       "      <th></th>\n",
       "      <th></th>\n",
       "      <th></th>\n",
       "      <th></th>\n",
       "      <th></th>\n",
       "      <th></th>\n",
       "      <th></th>\n",
       "      <th></th>\n",
       "      <th></th>\n",
       "      <th></th>\n",
       "      <th></th>\n",
       "    </tr>\n",
       "  </thead>\n",
       "  <tbody>\n",
       "    <tr>\n",
       "      <th>619</th>\n",
       "      <td>RL</td>\n",
       "      <td>Pave</td>\n",
       "      <td>NaN</td>\n",
       "      <td>Reg</td>\n",
       "      <td>Lvl</td>\n",
       "      <td>AllPub</td>\n",
       "      <td>Inside</td>\n",
       "      <td>Gtl</td>\n",
       "      <td>Norm</td>\n",
       "      <td>Norm</td>\n",
       "      <td>...</td>\n",
       "      <td>774</td>\n",
       "      <td>0</td>\n",
       "      <td>108</td>\n",
       "      <td>0</td>\n",
       "      <td>0</td>\n",
       "      <td>260</td>\n",
       "      <td>0</td>\n",
       "      <td>0</td>\n",
       "      <td>7</td>\n",
       "      <td>2007</td>\n",
       "    </tr>\n",
       "    <tr>\n",
       "      <th>871</th>\n",
       "      <td>RL</td>\n",
       "      <td>Pave</td>\n",
       "      <td>NaN</td>\n",
       "      <td>Reg</td>\n",
       "      <td>Lvl</td>\n",
       "      <td>AllPub</td>\n",
       "      <td>Inside</td>\n",
       "      <td>Gtl</td>\n",
       "      <td>PosN</td>\n",
       "      <td>Norm</td>\n",
       "      <td>...</td>\n",
       "      <td>308</td>\n",
       "      <td>0</td>\n",
       "      <td>0</td>\n",
       "      <td>0</td>\n",
       "      <td>0</td>\n",
       "      <td>0</td>\n",
       "      <td>0</td>\n",
       "      <td>0</td>\n",
       "      <td>8</td>\n",
       "      <td>2009</td>\n",
       "    </tr>\n",
       "    <tr>\n",
       "      <th>93</th>\n",
       "      <td>RL</td>\n",
       "      <td>Pave</td>\n",
       "      <td>Grvl</td>\n",
       "      <td>IR1</td>\n",
       "      <td>HLS</td>\n",
       "      <td>AllPub</td>\n",
       "      <td>Inside</td>\n",
       "      <td>Gtl</td>\n",
       "      <td>Norm</td>\n",
       "      <td>Norm</td>\n",
       "      <td>...</td>\n",
       "      <td>432</td>\n",
       "      <td>0</td>\n",
       "      <td>0</td>\n",
       "      <td>44</td>\n",
       "      <td>0</td>\n",
       "      <td>0</td>\n",
       "      <td>0</td>\n",
       "      <td>0</td>\n",
       "      <td>8</td>\n",
       "      <td>2009</td>\n",
       "    </tr>\n",
       "    <tr>\n",
       "      <th>818</th>\n",
       "      <td>RL</td>\n",
       "      <td>Pave</td>\n",
       "      <td>NaN</td>\n",
       "      <td>IR1</td>\n",
       "      <td>Lvl</td>\n",
       "      <td>AllPub</td>\n",
       "      <td>CulDSac</td>\n",
       "      <td>Gtl</td>\n",
       "      <td>Norm</td>\n",
       "      <td>Norm</td>\n",
       "      <td>...</td>\n",
       "      <td>857</td>\n",
       "      <td>150</td>\n",
       "      <td>59</td>\n",
       "      <td>0</td>\n",
       "      <td>0</td>\n",
       "      <td>0</td>\n",
       "      <td>0</td>\n",
       "      <td>0</td>\n",
       "      <td>7</td>\n",
       "      <td>2008</td>\n",
       "    </tr>\n",
       "    <tr>\n",
       "      <th>303</th>\n",
       "      <td>RL</td>\n",
       "      <td>Pave</td>\n",
       "      <td>NaN</td>\n",
       "      <td>IR1</td>\n",
       "      <td>Lvl</td>\n",
       "      <td>AllPub</td>\n",
       "      <td>Corner</td>\n",
       "      <td>Gtl</td>\n",
       "      <td>Norm</td>\n",
       "      <td>Norm</td>\n",
       "      <td>...</td>\n",
       "      <td>843</td>\n",
       "      <td>468</td>\n",
       "      <td>81</td>\n",
       "      <td>0</td>\n",
       "      <td>0</td>\n",
       "      <td>0</td>\n",
       "      <td>0</td>\n",
       "      <td>0</td>\n",
       "      <td>1</td>\n",
       "      <td>2006</td>\n",
       "    </tr>\n",
       "  </tbody>\n",
       "</table>\n",
       "<p>5 rows × 76 columns</p>\n",
       "</div>"
      ],
      "text/plain": [
       "    MSZoning Street Alley LotShape LandContour Utilities LotConfig LandSlope  \\\n",
       "Id                                                                             \n",
       "619       RL   Pave   NaN      Reg         Lvl    AllPub    Inside       Gtl   \n",
       "871       RL   Pave   NaN      Reg         Lvl    AllPub    Inside       Gtl   \n",
       "93        RL   Pave  Grvl      IR1         HLS    AllPub    Inside       Gtl   \n",
       "818       RL   Pave   NaN      IR1         Lvl    AllPub   CulDSac       Gtl   \n",
       "303       RL   Pave   NaN      IR1         Lvl    AllPub    Corner       Gtl   \n",
       "\n",
       "    Condition1 Condition2  ... GarageArea WoodDeckSF OpenPorchSF  \\\n",
       "Id                         ...                                     \n",
       "619       Norm       Norm  ...        774          0         108   \n",
       "871       PosN       Norm  ...        308          0           0   \n",
       "93        Norm       Norm  ...        432          0           0   \n",
       "818       Norm       Norm  ...        857        150          59   \n",
       "303       Norm       Norm  ...        843        468          81   \n",
       "\n",
       "    EnclosedPorch 3SsnPorch ScreenPorch PoolArea MiscVal MoSold YrSold  \n",
       "Id                                                                      \n",
       "619             0         0         260        0       0      7   2007  \n",
       "871             0         0           0        0       0      8   2009  \n",
       "93             44         0           0        0       0      8   2009  \n",
       "818             0         0           0        0       0      7   2008  \n",
       "303             0         0           0        0       0      1   2006  \n",
       "\n",
       "[5 rows x 76 columns]"
      ]
     },
     "execution_count": 3,
     "metadata": {},
     "output_type": "execute_result"
    }
   ],
   "source": [
    "X_train.head()"
   ]
  },
  {
   "cell_type": "markdown",
   "id": "e9e97aec",
   "metadata": {
    "papermill": {
     "duration": 0.003735,
     "end_time": "2025-08-10T13:47:26.391119",
     "exception": false,
     "start_time": "2025-08-10T13:47:26.387384",
     "status": "completed"
    },
    "tags": []
   },
   "source": [
    "The next code cell uses code from the tutorial to preprocess the data and train a model.  Run this code without changes."
   ]
  },
  {
   "cell_type": "code",
   "execution_count": 4,
   "id": "55fecccf",
   "metadata": {
    "execution": {
     "iopub.execute_input": "2025-08-10T13:47:26.401159Z",
     "iopub.status.busy": "2025-08-10T13:47:26.400894Z",
     "iopub.status.idle": "2025-08-10T13:47:29.288975Z",
     "shell.execute_reply": "2025-08-10T13:47:29.288097Z"
    },
    "papermill": {
     "duration": 2.895617,
     "end_time": "2025-08-10T13:47:29.290665",
     "exception": false,
     "start_time": "2025-08-10T13:47:26.395048",
     "status": "completed"
    },
    "tags": []
   },
   "outputs": [
    {
     "name": "stdout",
     "output_type": "stream",
     "text": [
      "MAE from My Approach :\n",
      "17669.134383561643\n"
     ]
    }
   ],
   "source": [
    "from sklearn.pipeline import Pipeline\n",
    "from sklearn.compose import ColumnTransformer\n",
    "from sklearn.preprocessing import OrdinalEncoder, OneHotEncoder\n",
    "from sklearn.impute import SimpleImputer\n",
    "from sklearn.utils.validation import check_is_fitted\n",
    "import pandas as pd\n",
    "from sklearn.ensemble import RandomForestRegressor\n",
    "from sklearn.metrics import mean_absolute_error\n",
    "\n",
    "# function for comparing different approaches\n",
    "def score_dataset(X_train, X_valid, y_train, y_valid):\n",
    "    model = RandomForestRegressor(n_estimators=100, random_state=0)\n",
    "    model.fit(X_train, y_train)\n",
    "    preds = model.predict(X_valid)\n",
    "    return mean_absolute_error(y_valid, preds)\n",
    "\n",
    "# Identify categorical columns\n",
    "object_cols = [col for col in X_train.columns if X_train[col].dtype == \"object\"]\n",
    "\n",
    "# Columns that can be safely ordinal encoded\n",
    "good_label_cols = [col for col in object_cols if \n",
    "                   set(X_train[col].dropna().unique()) <= {\"Low\", \"Medium\", \"High\"}]\n",
    "\n",
    "# Columns for one-hot encoding\n",
    "bad_label_cols = list(set(object_cols) - set(good_label_cols))\n",
    "\n",
    "# Numeric columns\n",
    "numeric_cols = [col for col in X_train.columns if X_train[col].dtype in ['int64', 'float64']]\n",
    "\n",
    "# Pipelines for each type\n",
    "ordinal_pipeline = Pipeline(steps=[\n",
    "    ('imputer', SimpleImputer(strategy='most_frequent')),\n",
    "    ('ordinal', OrdinalEncoder())\n",
    "])\n",
    "\n",
    "onehot_pipeline = Pipeline(steps=[\n",
    "    ('imputer', SimpleImputer(strategy='most_frequent')),\n",
    "    ('onehot', OneHotEncoder(handle_unknown='ignore'))\n",
    "])\n",
    "\n",
    "numeric_pipeline = Pipeline(steps=[\n",
    "    ('imputer', SimpleImputer(strategy='mean'))\n",
    "])\n",
    "\n",
    "# Combine into a single preprocessor\n",
    "preprocessor = ColumnTransformer(transformers=[\n",
    "    ('ordinal', ordinal_pipeline, good_label_cols),\n",
    "    ('onehot', onehot_pipeline, bad_label_cols),\n",
    "    ('num', numeric_pipeline, numeric_cols)\n",
    "])\n",
    "\n",
    "# Fit and transform the training data\n",
    "X_train_processed = preprocessor.fit_transform(X_train)\n",
    "X_valid_processed = preprocessor.transform(X_valid)\n",
    "\n",
    "# Get feature names\n",
    "feature_names = []\n",
    "\n",
    "# Ordinal columns keep their names\n",
    "feature_names.extend(good_label_cols)\n",
    "\n",
    "# One-hot columns — only if encoder is fitted\n",
    "if bad_label_cols:\n",
    "    onehot_encoder = preprocessor.named_transformers_['onehot'].named_steps['onehot']\n",
    "    try:\n",
    "        check_is_fitted(onehot_encoder)\n",
    "        feature_names.extend(onehot_encoder.get_feature_names_out(bad_label_cols))\n",
    "    except:\n",
    "        pass  # Skip if not fitted\n",
    "\n",
    "# Numeric columns keep their names\n",
    "feature_names.extend(numeric_cols)\n",
    "\n",
    "# Create DataFrames with correct column names\n",
    "X_train_df = pd.DataFrame(X_train_processed, columns=feature_names, index=X_train.index)\n",
    "X_valid_df = pd.DataFrame(X_valid_processed, columns=feature_names, index=X_valid.index)\n",
    "# Step 8: Evaluate model\n",
    "print(\"MAE from My Approach :\")\n",
    "print(score_dataset(X_train_processed, X_valid_processed, y_train, y_valid))"
   ]
  },
  {
   "cell_type": "code",
   "execution_count": 5,
   "id": "e8ac7a50",
   "metadata": {
    "execution": {
     "iopub.execute_input": "2025-08-10T13:47:29.301833Z",
     "iopub.status.busy": "2025-08-10T13:47:29.301561Z",
     "iopub.status.idle": "2025-08-10T13:47:31.837970Z",
     "shell.execute_reply": "2025-08-10T13:47:31.837002Z"
    },
    "papermill": {
     "duration": 2.544572,
     "end_time": "2025-08-10T13:47:31.839741",
     "exception": false,
     "start_time": "2025-08-10T13:47:29.295169",
     "status": "completed"
    },
    "tags": []
   },
   "outputs": [
    {
     "name": "stdout",
     "output_type": "stream",
     "text": [
      "MAE: 17614.81993150685\n"
     ]
    }
   ],
   "source": [
    "from sklearn.compose import ColumnTransformer\n",
    "from sklearn.pipeline import Pipeline\n",
    "from sklearn.impute import SimpleImputer\n",
    "from sklearn.preprocessing import OrdinalEncoder, OneHotEncoder\n",
    "from sklearn.ensemble import RandomForestRegressor\n",
    "from sklearn.metrics import mean_absolute_error\n",
    "from sklearn.utils.validation import check_is_fitted\n",
    "\n",
    "# Preprocessing for numerical data\n",
    "numerical_transformer = SimpleImputer(strategy='constant')\n",
    "\n",
    "# Preprocessing for categorical data\n",
    "categorical_transformer = Pipeline(steps=[\n",
    "    ('imputer', SimpleImputer(strategy='most_frequent')),\n",
    "    ('onehot', OneHotEncoder(handle_unknown='ignore'))\n",
    "])\n",
    "\n",
    "# Bundle preprocessing for numerical and categorical data\n",
    "preprocessor = ColumnTransformer(\n",
    "    transformers=[\n",
    "        ('num', numerical_transformer, numerical_cols),\n",
    "        ('cat', categorical_transformer, categorical_cols)\n",
    "    ])\n",
    "\n",
    "# Define model\n",
    "model = RandomForestRegressor(n_estimators=100, random_state=0)\n",
    "\n",
    "# Bundle preprocessing and modeling code in a pipeline\n",
    "clf = Pipeline(steps=[('preprocessor', preprocessor),\n",
    "                      ('model', model)\n",
    "                     ])\n",
    "\n",
    "# Preprocessing of training data, fit model \n",
    "clf.fit(X_train, y_train)\n",
    "\n",
    "# Preprocessing of validation data, get predictions\n",
    "preds = clf.predict(X_valid)\n",
    "\n",
    "print('MAE:', mean_absolute_error(y_valid, preds))"
   ]
  },
  {
   "cell_type": "markdown",
   "id": "c4c52628",
   "metadata": {
    "papermill": {
     "duration": 0.003846,
     "end_time": "2025-08-10T13:47:31.848319",
     "exception": false,
     "start_time": "2025-08-10T13:47:31.844473",
     "status": "completed"
    },
    "tags": []
   },
   "source": [
    "The code yields a value around 17862 for the mean absolute error (MAE).  In the next step, you will amend the code to do better.\n",
    "\n",
    "# Step 1: Improve the performance\n",
    "\n",
    "### Part A\n",
    "\n",
    "Now, it's your turn!  In the code cell below, define your own preprocessing steps and random forest model.  Fill in values for the following variables:\n",
    "- `numerical_transformer`\n",
    "- `categorical_transformer`\n",
    "- `model`\n",
    "\n",
    "To pass this part of the exercise, you need only define valid preprocessing steps and a random forest model."
   ]
  },
  {
   "cell_type": "code",
   "execution_count": 6,
   "id": "a75473f0",
   "metadata": {
    "execution": {
     "iopub.execute_input": "2025-08-10T13:47:31.857488Z",
     "iopub.status.busy": "2025-08-10T13:47:31.857175Z",
     "iopub.status.idle": "2025-08-10T13:47:31.866602Z",
     "shell.execute_reply": "2025-08-10T13:47:31.865832Z"
    },
    "papermill": {
     "duration": 0.015423,
     "end_time": "2025-08-10T13:47:31.867812",
     "exception": false,
     "start_time": "2025-08-10T13:47:31.852389",
     "status": "completed"
    },
    "tags": []
   },
   "outputs": [
    {
     "data": {
      "application/javascript": [
       "parent.postMessage({\"jupyterEvent\": \"custom.exercise_interaction\", \"data\": {\"outcomeType\": 1, \"valueTowardsCompletion\": 1.0, \"interactionType\": 1, \"questionType\": 2, \"questionId\": \"1.1_YourTurnModel\", \"learnToolsVersion\": \"0.3.5\", \"failureMessage\": \"\", \"exceptionClass\": \"\", \"trace\": \"\"}}, \"*\")"
      ],
      "text/plain": [
       "<IPython.core.display.Javascript object>"
      ]
     },
     "metadata": {},
     "output_type": "display_data"
    },
    {
     "data": {
      "text/markdown": [
       "<span style=\"color:#33cc33\">Correct</span>"
      ],
      "text/plain": [
       "Correct"
      ]
     },
     "metadata": {},
     "output_type": "display_data"
    }
   ],
   "source": [
    "# Identify columns by data type\n",
    "numerical_cols = [c for c in X_train.columns if X_train[c].dtype in ['int64', 'float64']]\n",
    "categorical_cols = [c for c in X_train.columns if X_train[c].dtype == 'object']\n",
    "\n",
    "# Preprocessing for numerical data\n",
    "numerical_transformer = SimpleImputer(strategy='median')\n",
    "\n",
    "# Preprocessing for categorical data\n",
    "categorical_transformer = Pipeline(steps=[\n",
    "    ('imputer', SimpleImputer(strategy='constant')),\n",
    "    ('onehot', OneHotEncoder(handle_unknown='ignore'))\n",
    "])\n",
    "\n",
    "# Bundle preprocessing for numerical and categorical data\n",
    "preprocessor = ColumnTransformer(\n",
    "    transformers=[\n",
    "        ('num', numerical_transformer, numerical_cols),\n",
    "        ('cat', categorical_transformer, categorical_cols)\n",
    "    ])\n",
    "\n",
    "# Define model\n",
    "model =  model = RandomForestRegressor(n_estimators=100, random_state=0)\n",
    "\n",
    "# Check your answer\n",
    "step_1.a.check()"
   ]
  },
  {
   "cell_type": "code",
   "execution_count": 7,
   "id": "387d8795",
   "metadata": {
    "execution": {
     "iopub.execute_input": "2025-08-10T13:47:31.877414Z",
     "iopub.status.busy": "2025-08-10T13:47:31.877135Z",
     "iopub.status.idle": "2025-08-10T13:47:31.884181Z",
     "shell.execute_reply": "2025-08-10T13:47:31.883168Z"
    },
    "papermill": {
     "duration": 0.013243,
     "end_time": "2025-08-10T13:47:31.885467",
     "exception": false,
     "start_time": "2025-08-10T13:47:31.872224",
     "status": "completed"
    },
    "tags": []
   },
   "outputs": [
    {
     "data": {
      "application/javascript": [
       "parent.postMessage({\"jupyterEvent\": \"custom.exercise_interaction\", \"data\": {\"interactionType\": 3, \"questionType\": 2, \"questionId\": \"1.1_YourTurnModel\", \"learnToolsVersion\": \"0.3.5\", \"valueTowardsCompletion\": 0.0, \"failureMessage\": \"\", \"exceptionClass\": \"\", \"trace\": \"\", \"outcomeType\": 4}}, \"*\")"
      ],
      "text/plain": [
       "<IPython.core.display.Javascript object>"
      ]
     },
     "metadata": {},
     "output_type": "display_data"
    },
    {
     "data": {
      "text/markdown": [
       "<span style=\"color:#33cc99\">Solution:</span> \n",
       "```python\n",
       "# Preprocessing for numerical data\n",
       "numerical_transformer = SimpleImputer(strategy='constant')\n",
       "\n",
       "# Preprocessing for categorical data\n",
       "categorical_transformer = Pipeline(steps=[\n",
       "    ('imputer', SimpleImputer(strategy='constant')),\n",
       "    ('onehot', OneHotEncoder(handle_unknown='ignore'))\n",
       "])\n",
       "\n",
       "# Bundle preprocessing for numerical and categorical data\n",
       "preprocessor = ColumnTransformer(\n",
       "    transformers=[\n",
       "        ('num', numerical_transformer, numerical_cols),\n",
       "        ('cat', categorical_transformer, categorical_cols)\n",
       "    ])\n",
       "\n",
       "# Define model\n",
       "model = RandomForestRegressor(n_estimators=100, random_state=0)\n",
       "\n",
       "```"
      ],
      "text/plain": [
       "Solution: \n",
       "```python\n",
       "# Preprocessing for numerical data\n",
       "numerical_transformer = SimpleImputer(strategy='constant')\n",
       "\n",
       "# Preprocessing for categorical data\n",
       "categorical_transformer = Pipeline(steps=[\n",
       "    ('imputer', SimpleImputer(strategy='constant')),\n",
       "    ('onehot', OneHotEncoder(handle_unknown='ignore'))\n",
       "])\n",
       "\n",
       "# Bundle preprocessing for numerical and categorical data\n",
       "preprocessor = ColumnTransformer(\n",
       "    transformers=[\n",
       "        ('num', numerical_transformer, numerical_cols),\n",
       "        ('cat', categorical_transformer, categorical_cols)\n",
       "    ])\n",
       "\n",
       "# Define model\n",
       "model = RandomForestRegressor(n_estimators=100, random_state=0)\n",
       "\n",
       "```"
      ]
     },
     "metadata": {},
     "output_type": "display_data"
    }
   ],
   "source": [
    "# Lines below will give you a hint or solution code\n",
    "#step_1.a.hint()\n",
    "step_1.a.solution()"
   ]
  },
  {
   "cell_type": "markdown",
   "id": "f687c79f",
   "metadata": {
    "papermill": {
     "duration": 0.004263,
     "end_time": "2025-08-10T13:47:31.894378",
     "exception": false,
     "start_time": "2025-08-10T13:47:31.890115",
     "status": "completed"
    },
    "tags": []
   },
   "source": [
    "### Part B\n",
    "\n",
    "Run the code cell below without changes.\n",
    "\n",
    "To pass this step, you need to have defined a pipeline in **Part A** that achieves lower MAE than the code above.  You're encouraged to take your time here and try out many different approaches, to see how low you can get the MAE!  (_If your code does not pass, please amend the preprocessing steps and model in Part A._)"
   ]
  },
  {
   "cell_type": "code",
   "execution_count": 8,
   "id": "941ddbe4",
   "metadata": {
    "execution": {
     "iopub.execute_input": "2025-08-10T13:47:31.904652Z",
     "iopub.status.busy": "2025-08-10T13:47:31.904076Z",
     "iopub.status.idle": "2025-08-10T13:47:34.491619Z",
     "shell.execute_reply": "2025-08-10T13:47:34.490791Z"
    },
    "papermill": {
     "duration": 2.594127,
     "end_time": "2025-08-10T13:47:34.492937",
     "exception": false,
     "start_time": "2025-08-10T13:47:31.898810",
     "status": "completed"
    },
    "tags": []
   },
   "outputs": [
    {
     "name": "stdout",
     "output_type": "stream",
     "text": [
      "MAE: 17495.599041095888\n"
     ]
    },
    {
     "data": {
      "application/javascript": [
       "parent.postMessage({\"jupyterEvent\": \"custom.exercise_interaction\", \"data\": {\"outcomeType\": 1, \"valueTowardsCompletion\": 1.0, \"interactionType\": 1, \"questionType\": 2, \"questionId\": \"1.2_YourTurnPredict\", \"learnToolsVersion\": \"0.3.5\", \"failureMessage\": \"\", \"exceptionClass\": \"\", \"trace\": \"\"}}, \"*\")"
      ],
      "text/plain": [
       "<IPython.core.display.Javascript object>"
      ]
     },
     "metadata": {},
     "output_type": "display_data"
    },
    {
     "data": {
      "text/markdown": [
       "<span style=\"color:#33cc33\">Correct</span>"
      ],
      "text/plain": [
       "Correct"
      ]
     },
     "metadata": {},
     "output_type": "display_data"
    }
   ],
   "source": [
    "# Bundle preprocessing and modeling code in a pipeline\n",
    "my_pipeline = Pipeline(steps=[('preprocessor', preprocessor),\n",
    "                              ('model', model)\n",
    "                             ])\n",
    "\n",
    "# Preprocessing of training data, fit model \n",
    "my_pipeline.fit(X_train, y_train)\n",
    "\n",
    "# Preprocessing of validation data, get predictions\n",
    "preds = my_pipeline.predict(X_valid)\n",
    "\n",
    "# Evaluate the model\n",
    "score = mean_absolute_error(y_valid, preds)\n",
    "print('MAE:', score)\n",
    "\n",
    "# Check your answer\n",
    "step_1.b.check()"
   ]
  },
  {
   "cell_type": "code",
   "execution_count": 9,
   "id": "9c1499f8",
   "metadata": {
    "execution": {
     "iopub.execute_input": "2025-08-10T13:47:34.504120Z",
     "iopub.status.busy": "2025-08-10T13:47:34.503860Z",
     "iopub.status.idle": "2025-08-10T13:47:34.510190Z",
     "shell.execute_reply": "2025-08-10T13:47:34.509544Z"
    },
    "papermill": {
     "duration": 0.013265,
     "end_time": "2025-08-10T13:47:34.511377",
     "exception": false,
     "start_time": "2025-08-10T13:47:34.498112",
     "status": "completed"
    },
    "tags": []
   },
   "outputs": [
    {
     "data": {
      "application/javascript": [
       "parent.postMessage({\"jupyterEvent\": \"custom.exercise_interaction\", \"data\": {\"interactionType\": 2, \"questionType\": 2, \"questionId\": \"1.2_YourTurnPredict\", \"learnToolsVersion\": \"0.3.5\", \"valueTowardsCompletion\": 0.0, \"failureMessage\": \"\", \"exceptionClass\": \"\", \"trace\": \"\", \"outcomeType\": 4}}, \"*\")"
      ],
      "text/plain": [
       "<IPython.core.display.Javascript object>"
      ]
     },
     "metadata": {},
     "output_type": "display_data"
    },
    {
     "data": {
      "text/markdown": [
       "<span style=\"color:#3366cc\">Hint:</span> Please see the hint from Part A to get some ideas for how to change the preprocessing steps and model to get better performance."
      ],
      "text/plain": [
       "Hint: Please see the hint from Part A to get some ideas for how to change the preprocessing steps and model to get better performance."
      ]
     },
     "metadata": {},
     "output_type": "display_data"
    }
   ],
   "source": [
    "# Line below will give you a hint\n",
    "step_1.b.hint()"
   ]
  },
  {
   "cell_type": "markdown",
   "id": "f84125ba",
   "metadata": {
    "papermill": {
     "duration": 0.004626,
     "end_time": "2025-08-10T13:47:34.520886",
     "exception": false,
     "start_time": "2025-08-10T13:47:34.516260",
     "status": "completed"
    },
    "tags": []
   },
   "source": [
    "# Step 2: Generate test predictions\n",
    "\n",
    "Now, you'll use your trained model to generate predictions with the test data."
   ]
  },
  {
   "cell_type": "code",
   "execution_count": 10,
   "id": "a6683727",
   "metadata": {
    "execution": {
     "iopub.execute_input": "2025-08-10T13:47:34.531439Z",
     "iopub.status.busy": "2025-08-10T13:47:34.531126Z",
     "iopub.status.idle": "2025-08-10T13:47:34.596026Z",
     "shell.execute_reply": "2025-08-10T13:47:34.595250Z"
    },
    "papermill": {
     "duration": 0.071691,
     "end_time": "2025-08-10T13:47:34.597373",
     "exception": false,
     "start_time": "2025-08-10T13:47:34.525682",
     "status": "completed"
    },
    "tags": []
   },
   "outputs": [
    {
     "data": {
      "application/javascript": [
       "parent.postMessage({\"jupyterEvent\": \"custom.exercise_interaction\", \"data\": {\"outcomeType\": 1, \"valueTowardsCompletion\": 1.0, \"interactionType\": 1, \"questionType\": 2, \"questionId\": \"2_TestPreds\", \"learnToolsVersion\": \"0.3.5\", \"failureMessage\": \"\", \"exceptionClass\": \"\", \"trace\": \"\"}}, \"*\")"
      ],
      "text/plain": [
       "<IPython.core.display.Javascript object>"
      ]
     },
     "metadata": {},
     "output_type": "display_data"
    },
    {
     "data": {
      "text/markdown": [
       "<span style=\"color:#33cc33\">Correct</span>"
      ],
      "text/plain": [
       "Correct"
      ]
     },
     "metadata": {},
     "output_type": "display_data"
    }
   ],
   "source": [
    "# Preprocessing of test data, fit model\n",
    "preds_test = my_pipeline.predict(X_test)\n",
    "# Check your answer\n",
    "step_2.check()"
   ]
  },
  {
   "cell_type": "code",
   "execution_count": 11,
   "id": "44df32ca",
   "metadata": {
    "execution": {
     "iopub.execute_input": "2025-08-10T13:47:34.608664Z",
     "iopub.status.busy": "2025-08-10T13:47:34.608410Z",
     "iopub.status.idle": "2025-08-10T13:47:34.614430Z",
     "shell.execute_reply": "2025-08-10T13:47:34.613738Z"
    },
    "papermill": {
     "duration": 0.013097,
     "end_time": "2025-08-10T13:47:34.615669",
     "exception": false,
     "start_time": "2025-08-10T13:47:34.602572",
     "status": "completed"
    },
    "tags": []
   },
   "outputs": [
    {
     "data": {
      "application/javascript": [
       "parent.postMessage({\"jupyterEvent\": \"custom.exercise_interaction\", \"data\": {\"interactionType\": 3, \"questionType\": 2, \"questionId\": \"2_TestPreds\", \"learnToolsVersion\": \"0.3.5\", \"valueTowardsCompletion\": 0.0, \"failureMessage\": \"\", \"exceptionClass\": \"\", \"trace\": \"\", \"outcomeType\": 4}}, \"*\")"
      ],
      "text/plain": [
       "<IPython.core.display.Javascript object>"
      ]
     },
     "metadata": {},
     "output_type": "display_data"
    },
    {
     "data": {
      "text/markdown": [
       "<span style=\"color:#33cc99\">Solution:</span> \n",
       "```python\n",
       "# Preprocessing of test data, fit model\n",
       "preds_test = my_pipeline.predict(X_test)\n",
       "\n",
       "```"
      ],
      "text/plain": [
       "Solution: \n",
       "```python\n",
       "# Preprocessing of test data, fit model\n",
       "preds_test = my_pipeline.predict(X_test)\n",
       "\n",
       "```"
      ]
     },
     "metadata": {},
     "output_type": "display_data"
    }
   ],
   "source": [
    "# Lines below will give you a hint or solution code\n",
    "#step_2.hint()\n",
    "step_2.solution()"
   ]
  },
  {
   "cell_type": "markdown",
   "id": "89e430c5",
   "metadata": {
    "papermill": {
     "duration": 0.004907,
     "end_time": "2025-08-10T13:47:34.625941",
     "exception": false,
     "start_time": "2025-08-10T13:47:34.621034",
     "status": "completed"
    },
    "tags": []
   },
   "source": [
    "Run the next code cell without changes to save your results to a CSV file that can be submitted directly to the competition."
   ]
  },
  {
   "cell_type": "code",
   "execution_count": 12,
   "id": "7d745347",
   "metadata": {
    "execution": {
     "iopub.execute_input": "2025-08-10T13:47:34.637100Z",
     "iopub.status.busy": "2025-08-10T13:47:34.636793Z",
     "iopub.status.idle": "2025-08-10T13:47:34.649160Z",
     "shell.execute_reply": "2025-08-10T13:47:34.648394Z"
    },
    "papermill": {
     "duration": 0.019646,
     "end_time": "2025-08-10T13:47:34.650616",
     "exception": false,
     "start_time": "2025-08-10T13:47:34.630970",
     "status": "completed"
    },
    "tags": []
   },
   "outputs": [],
   "source": [
    "# Save test predictions to file\n",
    "output = pd.DataFrame({'Id': X_test.index,\n",
    "                       'SalePrice': preds_test})\n",
    "output.to_csv('submission.csv', index=False)"
   ]
  },
  {
   "cell_type": "markdown",
   "id": "5f497c48",
   "metadata": {
    "papermill": {
     "duration": 0.005247,
     "end_time": "2025-08-10T13:47:34.661177",
     "exception": false,
     "start_time": "2025-08-10T13:47:34.655930",
     "status": "completed"
    },
    "tags": []
   },
   "source": [
    "# Submit your results\n",
    "\n",
    "Once you have successfully completed Step 2, you're ready to submit your results to the leaderboard!  If you choose to do so, make sure that you have already joined the competition by clicking on the **Join Competition** button at [this link](https://www.kaggle.com/c/home-data-for-ml-course).  \n",
    "1. Begin by clicking on the **Save Version** button in the top right corner of the window.  This will generate a pop-up window.  \n",
    "2. Ensure that the **Save and Run All** option is selected, and then click on the **Save** button.\n",
    "3. This generates a window in the bottom left corner of the notebook.  After it has finished running, click on the number to the right of the **Save Version** button.  This pulls up a list of versions on the right of the screen.  Click on the ellipsis **(...)** to the right of the most recent version, and select **Open in Viewer**.  This brings you into view mode of the same page. You will need to scroll down to get back to these instructions.\n",
    "4. Click on the **Data** tab near the top of the screen.  Then, click on the file you would like to submit, and click on the **Submit** button to submit your results to the leaderboard.\n",
    "\n",
    "You have now successfully submitted to the competition!\n",
    "\n",
    "If you want to keep working to improve your performance, select the **Edit** button in the top right of the screen. Then you can change your code and repeat the process. There's a lot of room to improve, and you will climb up the leaderboard as you work.\n",
    "\n",
    "\n",
    "# Keep going\n",
    "\n",
    "Move on to learn about [**cross-validation**](https://www.kaggle.com/alexisbcook/cross-validation), a technique you can use to obtain more accurate estimates of model performance!"
   ]
  },
  {
   "cell_type": "markdown",
   "id": "0c61dba9",
   "metadata": {
    "papermill": {
     "duration": 0.004897,
     "end_time": "2025-08-10T13:47:34.671190",
     "exception": false,
     "start_time": "2025-08-10T13:47:34.666293",
     "status": "completed"
    },
    "tags": []
   },
   "source": [
    "---\n",
    "\n",
    "\n",
    "\n",
    "\n",
    "*Have questions or comments? Visit the [course discussion forum](https://www.kaggle.com/learn/intermediate-machine-learning/discussion) to chat with other learners.*"
   ]
  }
 ],
 "metadata": {
  "kaggle": {
   "accelerator": "none",
   "dataSources": [
    {
     "databundleVersionId": 111096,
     "sourceId": 10211,
     "sourceType": "competition"
    }
   ],
   "isGpuEnabled": false,
   "isInternetEnabled": false,
   "language": "python",
   "sourceType": "notebook"
  },
  "kernelspec": {
   "display_name": "Python 3",
   "language": "python",
   "name": "python3"
  },
  "language_info": {
   "codemirror_mode": {
    "name": "ipython",
    "version": 3
   },
   "file_extension": ".py",
   "mimetype": "text/x-python",
   "name": "python",
   "nbconvert_exporter": "python",
   "pygments_lexer": "ipython3",
   "version": "3.11.13"
  },
  "papermill": {
   "default_parameters": {},
   "duration": 16.317507,
   "end_time": "2025-08-10T13:47:35.194802",
   "environment_variables": {},
   "exception": null,
   "input_path": "__notebook__.ipynb",
   "output_path": "__notebook__.ipynb",
   "parameters": {},
   "start_time": "2025-08-10T13:47:18.877295",
   "version": "2.6.0"
  }
 },
 "nbformat": 4,
 "nbformat_minor": 5
}
